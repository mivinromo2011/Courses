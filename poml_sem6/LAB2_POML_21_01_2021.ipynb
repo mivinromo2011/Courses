{
 "metadata": {
  "language_info": {
   "codemirror_mode": {
    "name": "ipython",
    "version": 3
   },
   "file_extension": ".py",
   "mimetype": "text/x-python",
   "name": "python",
   "nbconvert_exporter": "python",
   "pygments_lexer": "ipython3",
   "version": "3.9.1-final"
  },
  "orig_nbformat": 2,
  "kernelspec": {
   "name": "python3",
   "display_name": "Python 3.9.1 64-bit",
   "metadata": {
    "interpreter": {
     "hash": "63fd5069d213b44bf678585dea6b12cceca9941eaf7f819626cde1f2670de90d"
    }
   }
  }
 },
 "nbformat": 4,
 "nbformat_minor": 2,
 "cells": [
  {
   "cell_type": "code",
   "execution_count": 3,
   "metadata": {},
   "outputs": [],
   "source": [
    "import numpy as np"
   ]
  },
  {
   "cell_type": "code",
   "execution_count": 4,
   "metadata": {},
   "outputs": [
    {
     "output_type": "execute_result",
     "data": {
      "text/plain": [
       "array([[-1400856464,         365, -1343835680],\n",
       "       [        365,           0,           0],\n",
       "       [-2147483648,           0, -1343835464]])"
      ]
     },
     "metadata": {},
     "execution_count": 4
    }
   ],
   "source": [
    "#creating new array\n",
    "np.empty([3,3], int)"
   ]
  },
  {
   "cell_type": "code",
   "execution_count": 5,
   "metadata": {},
   "outputs": [
    {
     "output_type": "execute_result",
     "data": {
      "text/plain": [
       "array([[-1345820400,         365,           0],\n",
       "       [          0,           1,  1027423549]])"
      ]
     },
     "metadata": {},
     "execution_count": 5
    }
   ],
   "source": [
    "#to replicate an array\n",
    "Arr=np.array([[2,5,7],[4,7,2]], np.int32)\n",
    "np.empty_like(Arr)"
   ]
  },
  {
   "cell_type": "code",
   "execution_count": 8,
   "metadata": {},
   "outputs": [
    {
     "output_type": "execute_result",
     "data": {
      "text/plain": [
       "array([[1., 0., 0.],\n",
       "       [0., 1., 0.],\n",
       "       [0., 0., 1.]])"
      ]
     },
     "metadata": {},
     "execution_count": 8
    }
   ],
   "source": [
    "#arr of dimension 3 and diagonals alone with 1\n",
    "np.eye(3)"
   ]
  },
  {
   "cell_type": "code",
   "execution_count": 9,
   "metadata": {},
   "outputs": [
    {
     "output_type": "execute_result",
     "data": {
      "text/plain": [
       "array([[1., 0.],\n",
       "       [0., 1.]])"
      ]
     },
     "metadata": {},
     "execution_count": 9
    }
   ],
   "source": [
    "np.identity(2)"
   ]
  },
  {
   "cell_type": "code",
   "execution_count": 10,
   "metadata": {},
   "outputs": [
    {
     "output_type": "execute_result",
     "data": {
      "text/plain": [
       "array([[1., 1., 1., 1.],\n",
       "       [1., 1., 1., 1.]])"
      ]
     },
     "metadata": {},
     "execution_count": 10
    }
   ],
   "source": [
    "#create array filled with ones of float type\n",
    "np.ones([2,4],float)"
   ]
  },
  {
   "cell_type": "code",
   "execution_count": 12,
   "metadata": {},
   "outputs": [
    {
     "output_type": "execute_result",
     "data": {
      "text/plain": [
       "array([1, 1, 1, 1], dtype=int64)"
      ]
     },
     "metadata": {},
     "execution_count": 12
    }
   ],
   "source": [
    "#to copy dimensions of an array but fill it with ones\n",
    "arr=np.arange(4, dtype=np.int64)\n",
    "np.ones_like(arr)"
   ]
  },
  {
   "cell_type": "code",
   "execution_count": 13,
   "metadata": {},
   "outputs": [
    {
     "output_type": "execute_result",
     "data": {
      "text/plain": [
       "array([[0., 0., 0., 0.],\n",
       "       [0., 0., 0., 0.],\n",
       "       [0., 0., 0., 0.],\n",
       "       [0., 0., 0., 0.]])"
      ]
     },
     "metadata": {},
     "execution_count": 13
    }
   ],
   "source": [
    "#array filled with zeroes\n",
    "np.zeros((4,4), float)"
   ]
  },
  {
   "cell_type": "code",
   "execution_count": 14,
   "metadata": {},
   "outputs": [
    {
     "output_type": "execute_result",
     "data": {
      "text/plain": [
       "array([0, 0, 0, 0], dtype=int64)"
      ]
     },
     "metadata": {},
     "execution_count": 14
    }
   ],
   "source": [
    "#to copy dimensions of an array but fill it with zeros\n",
    "arr=np.arange(4, dtype=np.int64)\n",
    "np.zeros_like(arr)"
   ]
  },
  {
   "cell_type": "code",
   "execution_count": 15,
   "metadata": {},
   "outputs": [
    {
     "output_type": "execute_result",
     "data": {
      "text/plain": [
       "array([[7, 7, 7],\n",
       "       [7, 7, 7],\n",
       "       [7, 7, 7]], dtype=uint32)"
      ]
     },
     "metadata": {},
     "execution_count": 15
    }
   ],
   "source": [
    "#create array of any dimension filled with a particular value (7 here)\n",
    "np.full((3,3),7,dtype=np.uint)"
   ]
  },
  {
   "cell_type": "code",
   "execution_count": 16,
   "metadata": {},
   "outputs": [
    {
     "output_type": "execute_result",
     "data": {
      "text/plain": [
       "array([[6, 6, 6],\n",
       "       [6, 6, 6],\n",
       "       [6, 6, 6]], dtype=uint32)"
      ]
     },
     "metadata": {},
     "execution_count": 16
    }
   ],
   "source": [
    "#same using multiplication\n",
    "np.ones([3,3], dtype=np.uint)*6"
   ]
  },
  {
   "cell_type": "code",
   "execution_count": 18,
   "metadata": {},
   "outputs": [
    {
     "output_type": "execute_result",
     "data": {
      "text/plain": [
       "array([6, 6, 6, 6], dtype=int64)"
      ]
     },
     "metadata": {},
     "execution_count": 18
    }
   ],
   "source": [
    "#create a replica of an array filled with another value\n",
    "arr=np.arange(4, dtype=np.int64)\n",
    "np.full_like(arr,6)"
   ]
  },
  {
   "cell_type": "code",
   "execution_count": 19,
   "metadata": {},
   "outputs": [
    {
     "output_type": "execute_result",
     "data": {
      "text/plain": [
       "array([6, 6, 6, 6], dtype=int64)"
      ]
     },
     "metadata": {},
     "execution_count": 19
    }
   ],
   "source": [
    "#same with multiplication\n",
    "np.ones_like(arr)*6"
   ]
  },
  {
   "cell_type": "code",
   "execution_count": 20,
   "metadata": {},
   "outputs": [
    {
     "output_type": "execute_result",
     "data": {
      "text/plain": [
       "array([1, 2, 3])"
      ]
     },
     "metadata": {},
     "execution_count": 20
    }
   ],
   "source": [
    "#Creating an array\n",
    "np.array([1,2,3])"
   ]
  },
  {
   "cell_type": "code",
   "execution_count": 21,
   "metadata": {},
   "outputs": [
    {
     "output_type": "execute_result",
     "data": {
      "text/plain": [
       "array([1, 2])"
      ]
     },
     "metadata": {},
     "execution_count": 21
    }
   ],
   "source": [
    "#Convert a variable into array\n",
    "X = [1,2]\n",
    "np.asarray(X)"
   ]
  },
  {
   "cell_type": "code",
   "execution_count": 22,
   "metadata": {},
   "outputs": [
    {
     "output_type": "execute_result",
     "data": {
      "text/plain": [
       "matrix([[3, 6],\n",
       "        [5, 7]])"
      ]
     },
     "metadata": {},
     "execution_count": 22
    }
   ],
   "source": [
    "# convert an array into a matrix\n",
    "X = np.array([[3,6], [5,7]])\n",
    "np.asmatrix(X)"
   ]
  },
  {
   "cell_type": "code",
   "execution_count": 23,
   "metadata": {},
   "outputs": [
    {
     "output_type": "execute_result",
     "data": {
      "text/plain": [
       "array([1., 2.])"
      ]
     },
     "metadata": {},
     "execution_count": 23
    }
   ],
   "source": [
    "#type conversion from int to float\n",
    "x = [1,2]\n",
    "np.asfarray(x)"
   ]
  },
  {
   "cell_type": "code",
   "execution_count": 24,
   "metadata": {},
   "outputs": [
    {
     "output_type": "execute_result",
     "data": {
      "text/plain": [
       "array([1., 2.])"
      ]
     },
     "metadata": {},
     "execution_count": 24
    }
   ],
   "source": [
    "np.asarray(x,float)"
   ]
  },
  {
   "cell_type": "code",
   "execution_count": 25,
   "metadata": {},
   "outputs": [
    {
     "output_type": "execute_result",
     "data": {
      "text/plain": [
       "30"
      ]
     },
     "metadata": {},
     "execution_count": 25
    }
   ],
   "source": [
    "#convert array into scalar of single element\n",
    "x=np.array([30])\n",
    "np.asscalar(x)"
   ]
  },
  {
   "cell_type": "code",
   "execution_count": 27,
   "metadata": {},
   "outputs": [
    {
     "output_type": "stream",
     "name": "stdout",
     "text": [
      "1570925010416 [ 31 221  32]\n1570924616960 [ 31 221  32]\n"
     ]
    }
   ],
   "source": [
    "# crating an array copy (different ids)\n",
    "\n",
    "x=np.array([31,221,32])\n",
    "y=np.copy(x)\n",
    "print(id(x), x)\n",
    "print(id(y), y)"
   ]
  },
  {
   "cell_type": "code",
   "execution_count": 28,
   "metadata": {},
   "outputs": [
    {
     "output_type": "execute_result",
     "data": {
      "text/plain": [
       "array([  2,   4,   6,   8,  10,  12,  14,  16,  18,  20,  22,  24,  26,\n",
       "        28,  30,  32,  34,  36,  38,  40,  42,  44,  46,  48,  50,  52,\n",
       "        54,  56,  58,  60,  62,  64,  66,  68,  70,  72,  74,  76,  78,\n",
       "        80,  82,  84,  86,  88,  90,  92,  94,  96,  98, 100])"
      ]
     },
     "metadata": {},
     "execution_count": 28
    }
   ],
   "source": [
    "# range => arange(start,end+1,step)\n",
    "np.arange(2,101,2)"
   ]
  },
  {
   "cell_type": "code",
   "execution_count": 33,
   "metadata": {},
   "outputs": [
    {
     "output_type": "execute_result",
     "data": {
      "text/plain": [
       "array([ 5.,  6.,  7.,  8.,  9., 10.])"
      ]
     },
     "metadata": {},
     "execution_count": 33
    }
   ],
   "source": [
    "# create a range (1-d Array) with a start value, end value and even spacing (difference)\n",
    "np.linspace(5.,10,6)"
   ]
  },
  {
   "cell_type": "code",
   "execution_count": 34,
   "metadata": {},
   "outputs": [
    {
     "output_type": "execute_result",
     "data": {
      "text/plain": [
       "array([1.e+05, 1.e+06, 1.e+07, 1.e+08, 1.e+09, 1.e+10])"
      ]
     },
     "metadata": {},
     "execution_count": 34
    }
   ],
   "source": [
    "#create logspaced values in an array\n",
    "np.logspace(5.,10.,6)"
   ]
  },
  {
   "cell_type": "code",
   "execution_count": 35,
   "metadata": {},
   "outputs": [
    {
     "output_type": "execute_result",
     "data": {
      "text/plain": [
       "array([3, 5, 3, 8])"
      ]
     },
     "metadata": {},
     "execution_count": 35
    }
   ],
   "source": [
    "#get diagonal of matrix\n",
    "mat = np.array([[3,6,7,9],[2,5,1,2],[6,8,3,1],[3,5,6,8]])\n",
    "np.diag(mat)"
   ]
  },
  {
   "cell_type": "code",
   "execution_count": 36,
   "metadata": {},
   "outputs": [
    {
     "output_type": "execute_result",
     "data": {
      "text/plain": [
       "array([3, 5, 3, 8])"
      ]
     },
     "metadata": {},
     "execution_count": 36
    }
   ],
   "source": [
    "mat.diagonal()"
   ]
  },
  {
   "cell_type": "code",
   "execution_count": 37,
   "metadata": {},
   "outputs": [
    {
     "output_type": "execute_result",
     "data": {
      "text/plain": [
       "array([[4, 0, 0, 0],\n",
       "       [0, 7, 0, 0],\n",
       "       [0, 0, 9, 0],\n",
       "       [0, 0, 0, 0]])"
      ]
     },
     "metadata": {},
     "execution_count": 37
    }
   ],
   "source": [
    "#creating an array with diagonals alone specified\n",
    "np.diagflat([4,7,9,0])"
   ]
  },
  {
   "cell_type": "code",
   "execution_count": 7,
   "metadata": {},
   "outputs": [
    {
     "output_type": "stream",
     "name": "stdout",
     "text": [
      "5\n5\n"
     ]
    }
   ],
   "source": [
    "# getting any specific element from an array\n",
    "arr=np.array([[1,2,3],[4,5,6]])\n",
    "t1=arr.flat[4]\n",
    "t2=np.ravel(arr)[4]\n",
    "assert np.allclose(t1,t2) #checking for equality of the arrays\n",
    "print(t1)\n",
    "print(t2)"
   ]
  },
  {
   "cell_type": "code",
   "execution_count": 8,
   "metadata": {},
   "outputs": [
    {
     "output_type": "stream",
     "name": "stdout",
     "text": [
      "[[0. 0. 0. 0. 0.]\n [0. 0. 0. 0. 0.]\n [0. 0. 0. 0. 0.]\n [0. 0. 0. 0. 0.]] [[0. 0. 0. 0. 0.]\n [0. 0. 0. 0. 0.]\n [0. 0. 0. 0. 0.]\n [0. 0. 0. 0. 0.]] [[0. 0. 0. 0. 0.]\n [0. 0. 0. 0. 0.]\n [0. 0. 0. 0. 0.]\n [0. 0. 0. 0. 0.]]\n"
     ]
    }
   ],
   "source": [
    "# echanging dimension of a matrix MxN => NxM\n",
    "#assert fucntion is used to check whether the given condition is true\n",
    "arr=np.zeros((5,4))\n",
    "t1=np.swapaxes(arr,1,0) #method 1\n",
    "t2=arr.transpose() #method 2\n",
    "t3=arr.T #method 3\n",
    "assert t1.shape==t2.shape==t3.shape\n",
    "print(t1,t2,t3)"
   ]
  },
  {
   "cell_type": "code",
   "execution_count": 10,
   "metadata": {},
   "outputs": [
    {
     "output_type": "stream",
     "name": "stdout",
     "text": [
      "(2, 1, 3)\n"
     ]
    }
   ],
   "source": [
    "#adding extra dimension to an array\n",
    "arr = np.zeros((2,3))\n",
    "print(np.expand_dims(arr,axis=1).shape)"
   ]
  },
  {
   "cell_type": "code",
   "execution_count": 12,
   "metadata": {},
   "outputs": [
    {
     "output_type": "stream",
     "name": "stdout",
     "text": [
      "(2, 4, 3)\n"
     ]
    }
   ],
   "source": [
    "#Removing a single dimension\n",
    "arr=np.zeros((2,4,3))\n",
    "print(np.squeeze(arr).shape)"
   ]
  },
  {
   "cell_type": "code",
   "execution_count": 18,
   "metadata": {},
   "outputs": [
    {
     "output_type": "stream",
     "name": "stdout",
     "text": [
      "[[3 2 5 4 3 2]\n [2 4 6 6 7 9]]\n"
     ]
    }
   ],
   "source": [
    "#Concatenating two arrays (column vice)\n",
    "arr=np.array([[3,2,5],[2,4,6]])\n",
    "arr1=np.array([[4,3,2],[6,7,9]])\n",
    "t1=np.concatenate((arr,arr1),1) #method 1\n",
    "t2=np.hstack((arr,arr1)) #method 2\n",
    "assert np.allclose(t1,t2)\n",
    "print(t2)"
   ]
  },
  {
   "cell_type": "code",
   "execution_count": 20,
   "metadata": {},
   "outputs": [
    {
     "output_type": "stream",
     "name": "stdout",
     "text": [
      "[[3 2 5]\n [2 4 6]\n [4 3 2]\n [6 7 9]]\n"
     ]
    }
   ],
   "source": [
    "#concatenating two arrays (row wise)\n",
    "arr=np.array([[3,2,5],[2,4,6]])\n",
    "arr1=np.array([[4,3,2],[6,7,9]])\n",
    "t1=np.concatenate((arr,arr1),0) #method 1\n",
    "t2=np.vstack((arr,arr1)) #method 2\n",
    "assert np.allclose(t1,t2)\n",
    "print(t2)"
   ]
  },
  {
   "cell_type": "code",
   "execution_count": 21,
   "metadata": {},
   "outputs": [
    {
     "output_type": "stream",
     "name": "stdout",
     "text": [
      "[16 18]\n[ 8 22]\n[16 18]\n[ 8 22]\n[ 8 22]\n"
     ]
    }
   ],
   "source": [
    "#Various products of matrices\n",
    "arr1=[2,4]\n",
    "arr2=[[2,1],[3,4]]\n",
    "print(np.dot(arr1,arr2))\n",
    "print(np.dot(arr2,arr1))\n",
    "print(np.matmul(arr1,arr2))\n",
    "print(np.inner(arr1,arr2))\n",
    "print(np.inner(arr2,arr1))"
   ]
  },
  {
   "cell_type": "code",
   "execution_count": 24,
   "metadata": {},
   "outputs": [
    {
     "output_type": "stream",
     "name": "stdout",
     "text": [
      "40\n40\n40\n40\n40\n"
     ]
    }
   ],
   "source": [
    "#Vector dot product\n",
    "x=np.array([[2,4],[4,5]])\n",
    "y=np.array([[2,1],[3,4]])\n",
    "print(np.vdot(x,y))\n",
    "print(np.vdot(y,x))\n",
    "print(np.dot(x.flatten(),y.flatten()))\n",
    "print(np.inner(x.flatten(),y.flatten()))\n",
    "print((x*y).sum())"
   ]
  },
  {
   "cell_type": "code",
   "execution_count": 25,
   "metadata": {},
   "outputs": [
    {
     "output_type": "stream",
     "name": "stdout",
     "text": [
      "True\nFalse\n"
     ]
    }
   ],
   "source": [
    "#Checking whether all elements are non-zero \n",
    "x=np.array([1,2,3])\n",
    "print(np.all(x))\n",
    "\n",
    "x=np.array([1,0,3])\n",
    "print(np.all(x))\n"
   ]
  },
  {
   "cell_type": "code",
   "execution_count": 26,
   "metadata": {},
   "outputs": [
    {
     "output_type": "stream",
     "name": "stdout",
     "text": [
      "True\nFalse\n"
     ]
    }
   ],
   "source": [
    "#checking if any of the element is non-zero\n",
    "x=np.array([1,0,0])\n",
    "print(np.any(x))\n",
    "\n",
    "x=np.array([0,0,0])\n",
    "print(np.any(x))"
   ]
  },
  {
   "cell_type": "code",
   "execution_count": 28,
   "metadata": {},
   "outputs": [
    {
     "output_type": "execute_result",
     "data": {
      "text/plain": [
       "array([[0.09799593, 0.87699258, 0.97083585],\n",
       "       [0.80380896, 0.0888896 , 0.6469183 ],\n",
       "       [0.1967608 , 0.24131699, 0.83233442]])"
      ]
     },
     "metadata": {},
     "execution_count": 28
    }
   ],
   "source": [
    "#creating array with random values\n",
    "np.random.random((3,3))"
   ]
  },
  {
   "cell_type": "code",
   "execution_count": 30,
   "metadata": {},
   "outputs": [
    {
     "output_type": "stream",
     "name": "stdout",
     "text": [
      "6.944434336537968e-05\n1.0010595186681057\n"
     ]
    }
   ],
   "source": [
    "#Create an array of shape (1000, 1000) and populate it with random samples from a standard normal distribution. And verify that the mean and standard deviation is close enough to 0 and 1 repectively.\n",
    "\n",
    "a1=np.random.randn(1000,1000)\n",
    "a2=np.random.standard_normal((1000,1000))\n",
    "a3=np.random.normal(loc=0.0, scale=1.0, size=(1000,1000))\n",
    "assert np.allclose(np.mean(a1),np.mean(a2), atol=0.1)\n",
    "assert np.allclose(np.mean(a1),np.mean(a3), atol=0.1)\n",
    "assert np.allclose(np.std(a1),np.std(a2), atol=0.1)\n",
    "assert np.allclose(np.std(a1),np.std(a3), atol=0.1)\n",
    "print(np.mean(a3))\n",
    "print(np.std(a1))"
   ]
  },
  {
   "cell_type": "code",
   "execution_count": 31,
   "metadata": {},
   "outputs": [
    {
     "output_type": "execute_result",
     "data": {
      "text/plain": [
       "array([[0, 1],\n",
       "       [2, 3],\n",
       "       [1, 3]])"
      ]
     },
     "metadata": {},
     "execution_count": 31
    }
   ],
   "source": [
    "#Create an array of shape (3, 2) and populate it with random integers ranging from 0 to 3 (inclusive) from a discrete uniform distribution.\n",
    "np.random.randint(0, 4, (3, 2))"
   ]
  },
  {
   "cell_type": "code",
   "execution_count": 32,
   "metadata": {},
   "outputs": [
    {
     "output_type": "execute_result",
     "data": {
      "text/plain": [
       "array([2, 3, 9])"
      ]
     },
     "metadata": {},
     "execution_count": 32
    }
   ],
   "source": [
    "#Selecting random values in a range without repetition (same probability)\n",
    "np.random.choice(10, 3, replace=False)"
   ]
  },
  {
   "cell_type": "code",
   "execution_count": 35,
   "metadata": {},
   "outputs": [
    {
     "output_type": "stream",
     "name": "stdout",
     "text": [
      "[6 0 3 1 5 2 4]\n[2 6 4 0 1 3 5]\n"
     ]
    }
   ],
   "source": [
    "#shuffling values in a data structure\n",
    "x=np.arange(7)\n",
    "np.random.shuffle(x)\n",
    "print(x)\n",
    "print(np.random.permutation(7))"
   ]
  },
  {
   "cell_type": "code",
   "execution_count": 37,
   "metadata": {},
   "outputs": [
    {
     "output_type": "stream",
     "name": "stdout",
     "text": [
      "None\n"
     ]
    }
   ],
   "source": [
    "#Random Number genration with a seed value so the same value can obtained next time\n",
    "print(np.random.seed(13))"
   ]
  },
  {
   "cell_type": "code",
   "execution_count": null,
   "metadata": {},
   "outputs": [],
   "source": []
  }
 ]
}