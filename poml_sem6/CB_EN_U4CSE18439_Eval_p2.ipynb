{
 "cells": [
  {
   "cell_type": "code",
   "execution_count": 1,
   "metadata": {},
   "outputs": [],
   "source": [
    "import pandas as pd\n",
    "import matplotlib.pyplot as plt\n",
    "import numpy as np\n",
    "import seaborn as sns"
   ]
  },
  {
   "cell_type": "code",
   "execution_count": 2,
   "metadata": {},
   "outputs": [],
   "source": [
    "df = pd.read_csv(\"training_data_with_weather_info_week_1.csv\")"
   ]
  },
  {
   "cell_type": "code",
   "execution_count": 40,
   "metadata": {},
   "outputs": [
    {
     "data": {
      "text/plain": [
       "array(['Afghanistan', 'Albania', 'Algeria', 'Andorra',\n",
       "       'Antigua and Barbuda', 'Argentina', 'Armenia', 'Aruba',\n",
       "       'Australia', 'Austria', 'Azerbaijan', 'Bahrain', 'Bangladesh',\n",
       "       'Barbados', 'Belarus', 'Belgium', 'Benin', 'Bhutan', 'Bolivia',\n",
       "       'Bosnia and Herzegovina', 'Brazil', 'Brunei', 'Bulgaria',\n",
       "       'Burkina Faso', 'Cambodia', 'Cameroon', 'Canada',\n",
       "       'Central African Republic', 'Chile', 'China', 'Colombia',\n",
       "       'Congo (Brazzaville)', 'Congo (Kinshasa)', 'Costa Rica',\n",
       "       \"Cote d'Ivoire\", 'Croatia', 'Cruise Ship', 'Cuba', 'Cyprus',\n",
       "       'Czechia', 'Denmark', 'Djibouti', 'Dominican Republic', 'Ecuador',\n",
       "       'Egypt', 'Equatorial Guinea', 'Estonia', 'Eswatini', 'Ethiopia',\n",
       "       'Finland', 'France', 'French Guiana', 'Gabon', 'Gambia, The',\n",
       "       'Georgia', 'Germany', 'Ghana', 'Greece', 'Greenland', 'Guadeloupe',\n",
       "       'Guam', 'Guatemala', 'Guernsey', 'Guinea', 'Guyana', 'Holy See',\n",
       "       'Honduras', 'Hungary', 'Iceland', 'India', 'Indonesia', 'Iran',\n",
       "       'Iraq', 'Ireland', 'Israel', 'Italy', 'Jamaica', 'Japan', 'Jersey',\n",
       "       'Jordan', 'Kazakhstan', 'Kenya', 'Korea, South', 'Kosovo',\n",
       "       'Kuwait', 'Kyrgyzstan', 'Latvia', 'Lebanon', 'Liberia',\n",
       "       'Liechtenstein', 'Lithuania', 'Luxembourg', 'Malaysia', 'Maldives',\n",
       "       'Malta', 'Martinique', 'Mauritania', 'Mauritius', 'Mayotte',\n",
       "       'Mexico', 'Moldova', 'Monaco', 'Mongolia', 'Montenegro', 'Morocco',\n",
       "       'Namibia', 'Nepal', 'Netherlands', 'New Zealand', 'Nigeria',\n",
       "       'North Macedonia', 'Norway', 'Oman', 'Pakistan', 'Panama',\n",
       "       'Paraguay', 'Peru', 'Philippines', 'Poland', 'Portugal',\n",
       "       'Puerto Rico', 'Qatar', 'Republic of the Congo', 'Reunion',\n",
       "       'Romania', 'Russia', 'Rwanda', 'Saint Lucia',\n",
       "       'Saint Vincent and the Grenadines', 'San Marino', 'Saudi Arabia',\n",
       "       'Senegal', 'Serbia', 'Seychelles', 'Singapore', 'Slovakia',\n",
       "       'Slovenia', 'Somalia', 'South Africa', 'Spain', 'Sri Lanka',\n",
       "       'Sudan', 'Suriname', 'Sweden', 'Switzerland', 'Taiwan*',\n",
       "       'Tanzania', 'Thailand', 'The Bahamas', 'The Gambia', 'Togo',\n",
       "       'Trinidad and Tobago', 'Tunisia', 'Turkey', 'US', 'Ukraine',\n",
       "       'United Arab Emirates', 'United Kingdom', 'Uruguay', 'Uzbekistan',\n",
       "       'Venezuela', 'Vietnam', 'Zambia'], dtype=object)"
      ]
     },
     "execution_count": 40,
     "metadata": {},
     "output_type": "execute_result"
    }
   ],
   "source": [
    "df['Country/Region'].unique()"
   ]
  },
  {
   "cell_type": "code",
   "execution_count": 3,
   "metadata": {},
   "outputs": [
    {
     "data": {
      "text/html": [
       "<div>\n",
       "<style scoped>\n",
       "    .dataframe tbody tr th:only-of-type {\n",
       "        vertical-align: middle;\n",
       "    }\n",
       "\n",
       "    .dataframe tbody tr th {\n",
       "        vertical-align: top;\n",
       "    }\n",
       "\n",
       "    .dataframe thead th {\n",
       "        text-align: right;\n",
       "    }\n",
       "</style>\n",
       "<table border=\"1\" class=\"dataframe\">\n",
       "  <thead>\n",
       "    <tr style=\"text-align: right;\">\n",
       "      <th></th>\n",
       "      <th>Id</th>\n",
       "      <th>Province/State</th>\n",
       "      <th>Country/Region</th>\n",
       "      <th>Lat</th>\n",
       "      <th>Long</th>\n",
       "      <th>Date</th>\n",
       "      <th>ConfirmedCases</th>\n",
       "      <th>Fatalities</th>\n",
       "      <th>day_from_jan_first</th>\n",
       "      <th>temp</th>\n",
       "      <th>min</th>\n",
       "      <th>max</th>\n",
       "      <th>stp</th>\n",
       "      <th>slp</th>\n",
       "      <th>dewp</th>\n",
       "      <th>rh</th>\n",
       "      <th>ah</th>\n",
       "      <th>wdsp</th>\n",
       "      <th>prcp</th>\n",
       "      <th>fog</th>\n",
       "    </tr>\n",
       "  </thead>\n",
       "  <tbody>\n",
       "    <tr>\n",
       "      <th>0</th>\n",
       "      <td>1</td>\n",
       "      <td>NaN</td>\n",
       "      <td>Afghanistan</td>\n",
       "      <td>33.0</td>\n",
       "      <td>65.0</td>\n",
       "      <td>2020-01-22</td>\n",
       "      <td>0.0</td>\n",
       "      <td>0.0</td>\n",
       "      <td>22</td>\n",
       "      <td>42.6</td>\n",
       "      <td>33.6</td>\n",
       "      <td>54.9</td>\n",
       "      <td>999.9</td>\n",
       "      <td>1024.3</td>\n",
       "      <td>27.4</td>\n",
       "      <td>0.545709</td>\n",
       "      <td>0.186448</td>\n",
       "      <td>9.4</td>\n",
       "      <td>0.00</td>\n",
       "      <td>0</td>\n",
       "    </tr>\n",
       "    <tr>\n",
       "      <th>1</th>\n",
       "      <td>2</td>\n",
       "      <td>NaN</td>\n",
       "      <td>Afghanistan</td>\n",
       "      <td>33.0</td>\n",
       "      <td>65.0</td>\n",
       "      <td>2020-01-23</td>\n",
       "      <td>0.0</td>\n",
       "      <td>0.0</td>\n",
       "      <td>23</td>\n",
       "      <td>42.0</td>\n",
       "      <td>32.7</td>\n",
       "      <td>55.9</td>\n",
       "      <td>999.9</td>\n",
       "      <td>1020.8</td>\n",
       "      <td>22.8</td>\n",
       "      <td>0.461259</td>\n",
       "      <td>0.163225</td>\n",
       "      <td>14.9</td>\n",
       "      <td>99.99</td>\n",
       "      <td>1</td>\n",
       "    </tr>\n",
       "    <tr>\n",
       "      <th>2</th>\n",
       "      <td>3</td>\n",
       "      <td>NaN</td>\n",
       "      <td>Afghanistan</td>\n",
       "      <td>33.0</td>\n",
       "      <td>65.0</td>\n",
       "      <td>2020-01-24</td>\n",
       "      <td>0.0</td>\n",
       "      <td>0.0</td>\n",
       "      <td>24</td>\n",
       "      <td>40.1</td>\n",
       "      <td>36.9</td>\n",
       "      <td>43.2</td>\n",
       "      <td>999.9</td>\n",
       "      <td>1018.6</td>\n",
       "      <td>34.5</td>\n",
       "      <td>0.801794</td>\n",
       "      <td>0.325375</td>\n",
       "      <td>10.4</td>\n",
       "      <td>0.17</td>\n",
       "      <td>1</td>\n",
       "    </tr>\n",
       "    <tr>\n",
       "      <th>3</th>\n",
       "      <td>4</td>\n",
       "      <td>NaN</td>\n",
       "      <td>Afghanistan</td>\n",
       "      <td>33.0</td>\n",
       "      <td>65.0</td>\n",
       "      <td>2020-01-25</td>\n",
       "      <td>0.0</td>\n",
       "      <td>0.0</td>\n",
       "      <td>25</td>\n",
       "      <td>46.0</td>\n",
       "      <td>37.9</td>\n",
       "      <td>56.3</td>\n",
       "      <td>999.9</td>\n",
       "      <td>1018.0</td>\n",
       "      <td>37.8</td>\n",
       "      <td>0.728175</td>\n",
       "      <td>0.214562</td>\n",
       "      <td>6.1</td>\n",
       "      <td>0.57</td>\n",
       "      <td>1</td>\n",
       "    </tr>\n",
       "    <tr>\n",
       "      <th>4</th>\n",
       "      <td>5</td>\n",
       "      <td>NaN</td>\n",
       "      <td>Afghanistan</td>\n",
       "      <td>33.0</td>\n",
       "      <td>65.0</td>\n",
       "      <td>2020-01-26</td>\n",
       "      <td>0.0</td>\n",
       "      <td>0.0</td>\n",
       "      <td>26</td>\n",
       "      <td>42.8</td>\n",
       "      <td>36.1</td>\n",
       "      <td>53.1</td>\n",
       "      <td>999.9</td>\n",
       "      <td>1014.8</td>\n",
       "      <td>33.2</td>\n",
       "      <td>0.685513</td>\n",
       "      <td>0.231656</td>\n",
       "      <td>10.8</td>\n",
       "      <td>0.00</td>\n",
       "      <td>1</td>\n",
       "    </tr>\n",
       "  </tbody>\n",
       "</table>\n",
       "</div>"
      ],
      "text/plain": [
       "   Id Province/State Country/Region   Lat  Long        Date  ConfirmedCases  \\\n",
       "0   1            NaN    Afghanistan  33.0  65.0  2020-01-22             0.0   \n",
       "1   2            NaN    Afghanistan  33.0  65.0  2020-01-23             0.0   \n",
       "2   3            NaN    Afghanistan  33.0  65.0  2020-01-24             0.0   \n",
       "3   4            NaN    Afghanistan  33.0  65.0  2020-01-25             0.0   \n",
       "4   5            NaN    Afghanistan  33.0  65.0  2020-01-26             0.0   \n",
       "\n",
       "   Fatalities  day_from_jan_first  temp   min   max    stp     slp  dewp  \\\n",
       "0         0.0                  22  42.6  33.6  54.9  999.9  1024.3  27.4   \n",
       "1         0.0                  23  42.0  32.7  55.9  999.9  1020.8  22.8   \n",
       "2         0.0                  24  40.1  36.9  43.2  999.9  1018.6  34.5   \n",
       "3         0.0                  25  46.0  37.9  56.3  999.9  1018.0  37.8   \n",
       "4         0.0                  26  42.8  36.1  53.1  999.9  1014.8  33.2   \n",
       "\n",
       "         rh        ah  wdsp   prcp  fog  \n",
       "0  0.545709  0.186448   9.4   0.00    0  \n",
       "1  0.461259  0.163225  14.9  99.99    1  \n",
       "2  0.801794  0.325375  10.4   0.17    1  \n",
       "3  0.728175  0.214562   6.1   0.57    1  \n",
       "4  0.685513  0.231656  10.8   0.00    1  "
      ]
     },
     "execution_count": 3,
     "metadata": {},
     "output_type": "execute_result"
    }
   ],
   "source": [
    "df.head()"
   ]
  },
  {
   "cell_type": "code",
   "execution_count": 4,
   "metadata": {},
   "outputs": [
    {
     "data": {
      "text/html": [
       "<div>\n",
       "<style scoped>\n",
       "    .dataframe tbody tr th:only-of-type {\n",
       "        vertical-align: middle;\n",
       "    }\n",
       "\n",
       "    .dataframe tbody tr th {\n",
       "        vertical-align: top;\n",
       "    }\n",
       "\n",
       "    .dataframe thead th {\n",
       "        text-align: right;\n",
       "    }\n",
       "</style>\n",
       "<table border=\"1\" class=\"dataframe\">\n",
       "  <thead>\n",
       "    <tr style=\"text-align: right;\">\n",
       "      <th></th>\n",
       "      <th>Id</th>\n",
       "      <th>Lat</th>\n",
       "      <th>Long</th>\n",
       "      <th>ConfirmedCases</th>\n",
       "      <th>Fatalities</th>\n",
       "      <th>day_from_jan_first</th>\n",
       "      <th>temp</th>\n",
       "      <th>min</th>\n",
       "      <th>max</th>\n",
       "      <th>stp</th>\n",
       "      <th>slp</th>\n",
       "      <th>dewp</th>\n",
       "      <th>rh</th>\n",
       "      <th>ah</th>\n",
       "      <th>wdsp</th>\n",
       "      <th>prcp</th>\n",
       "      <th>fog</th>\n",
       "    </tr>\n",
       "  </thead>\n",
       "  <tbody>\n",
       "    <tr>\n",
       "      <th>count</th>\n",
       "      <td>17892.000000</td>\n",
       "      <td>17892.000000</td>\n",
       "      <td>17892.000000</td>\n",
       "      <td>17892.000000</td>\n",
       "      <td>17892.000000</td>\n",
       "      <td>17892.00000</td>\n",
       "      <td>17892.000000</td>\n",
       "      <td>17755.000000</td>\n",
       "      <td>17876.000000</td>\n",
       "      <td>17892.000000</td>\n",
       "      <td>10945.000000</td>\n",
       "      <td>17274.000000</td>\n",
       "      <td>17274.000000</td>\n",
       "      <td>1.727400e+04</td>\n",
       "      <td>17892.000000</td>\n",
       "      <td>17892.000000</td>\n",
       "      <td>17892.000000</td>\n",
       "    </tr>\n",
       "    <tr>\n",
       "      <th>mean</th>\n",
       "      <td>13191.500000</td>\n",
       "      <td>26.287693</td>\n",
       "      <td>4.766191</td>\n",
       "      <td>325.207523</td>\n",
       "      <td>11.974737</td>\n",
       "      <td>53.00000</td>\n",
       "      <td>54.849313</td>\n",
       "      <td>45.630262</td>\n",
       "      <td>64.380191</td>\n",
       "      <td>702.306416</td>\n",
       "      <td>1016.581023</td>\n",
       "      <td>42.353630</td>\n",
       "      <td>0.665443</td>\n",
       "      <td>inf</td>\n",
       "      <td>25.521104</td>\n",
       "      <td>7.826334</td>\n",
       "      <td>0.336631</td>\n",
       "    </tr>\n",
       "    <tr>\n",
       "      <th>std</th>\n",
       "      <td>7624.675152</td>\n",
       "      <td>22.935092</td>\n",
       "      <td>79.923261</td>\n",
       "      <td>3538.599684</td>\n",
       "      <td>174.346267</td>\n",
       "      <td>18.18475</td>\n",
       "      <td>22.306125</td>\n",
       "      <td>22.900739</td>\n",
       "      <td>22.310919</td>\n",
       "      <td>428.769343</td>\n",
       "      <td>8.490953</td>\n",
       "      <td>22.399517</td>\n",
       "      <td>0.191092</td>\n",
       "      <td>NaN</td>\n",
       "      <td>136.295573</td>\n",
       "      <td>26.740543</td>\n",
       "      <td>0.472571</td>\n",
       "    </tr>\n",
       "    <tr>\n",
       "      <th>min</th>\n",
       "      <td>1.000000</td>\n",
       "      <td>-41.454500</td>\n",
       "      <td>-157.498300</td>\n",
       "      <td>0.000000</td>\n",
       "      <td>0.000000</td>\n",
       "      <td>22.00000</td>\n",
       "      <td>-27.200000</td>\n",
       "      <td>-45.400000</td>\n",
       "      <td>-23.800000</td>\n",
       "      <td>0.000000</td>\n",
       "      <td>968.900000</td>\n",
       "      <td>-33.100000</td>\n",
       "      <td>0.053782</td>\n",
       "      <td>-2.374315e+01</td>\n",
       "      <td>0.000000</td>\n",
       "      <td>0.000000</td>\n",
       "      <td>0.000000</td>\n",
       "    </tr>\n",
       "    <tr>\n",
       "      <th>25%</th>\n",
       "      <td>6596.250000</td>\n",
       "      <td>13.145425</td>\n",
       "      <td>-71.516375</td>\n",
       "      <td>0.000000</td>\n",
       "      <td>0.000000</td>\n",
       "      <td>37.00000</td>\n",
       "      <td>38.800000</td>\n",
       "      <td>30.200000</td>\n",
       "      <td>47.500000</td>\n",
       "      <td>20.700000</td>\n",
       "      <td>1011.300000</td>\n",
       "      <td>27.000000</td>\n",
       "      <td>0.560904</td>\n",
       "      <td>1.161556e-01</td>\n",
       "      <td>3.500000</td>\n",
       "      <td>0.000000</td>\n",
       "      <td>0.000000</td>\n",
       "    </tr>\n",
       "    <tr>\n",
       "      <th>50%</th>\n",
       "      <td>13191.500000</td>\n",
       "      <td>32.985550</td>\n",
       "      <td>9.775000</td>\n",
       "      <td>0.000000</td>\n",
       "      <td>0.000000</td>\n",
       "      <td>53.00000</td>\n",
       "      <td>53.900000</td>\n",
       "      <td>44.400000</td>\n",
       "      <td>64.800000</td>\n",
       "      <td>976.600000</td>\n",
       "      <td>1016.000000</td>\n",
       "      <td>40.800000</td>\n",
       "      <td>0.704800</td>\n",
       "      <td>1.932966e-01</td>\n",
       "      <td>5.600000</td>\n",
       "      <td>0.000000</td>\n",
       "      <td>0.000000</td>\n",
       "    </tr>\n",
       "    <tr>\n",
       "      <th>75%</th>\n",
       "      <td>19786.750000</td>\n",
       "      <td>42.501575</td>\n",
       "      <td>64.688975</td>\n",
       "      <td>10.000000</td>\n",
       "      <td>0.000000</td>\n",
       "      <td>69.00000</td>\n",
       "      <td>76.800000</td>\n",
       "      <td>67.500000</td>\n",
       "      <td>84.600000</td>\n",
       "      <td>999.900000</td>\n",
       "      <td>1021.600000</td>\n",
       "      <td>63.500000</td>\n",
       "      <td>0.801220</td>\n",
       "      <td>2.329961e-01</td>\n",
       "      <td>8.700000</td>\n",
       "      <td>0.030000</td>\n",
       "      <td>1.000000</td>\n",
       "    </tr>\n",
       "    <tr>\n",
       "      <th>max</th>\n",
       "      <td>26382.000000</td>\n",
       "      <td>71.706900</td>\n",
       "      <td>174.886000</td>\n",
       "      <td>69176.000000</td>\n",
       "      <td>6820.000000</td>\n",
       "      <td>84.00000</td>\n",
       "      <td>97.300000</td>\n",
       "      <td>88.200000</td>\n",
       "      <td>109.600000</td>\n",
       "      <td>999.900000</td>\n",
       "      <td>1051.700000</td>\n",
       "      <td>81.100000</td>\n",
       "      <td>1.000000</td>\n",
       "      <td>inf</td>\n",
       "      <td>999.900000</td>\n",
       "      <td>99.990000</td>\n",
       "      <td>1.000000</td>\n",
       "    </tr>\n",
       "  </tbody>\n",
       "</table>\n",
       "</div>"
      ],
      "text/plain": [
       "                 Id           Lat          Long  ConfirmedCases    Fatalities  \\\n",
       "count  17892.000000  17892.000000  17892.000000    17892.000000  17892.000000   \n",
       "mean   13191.500000     26.287693      4.766191      325.207523     11.974737   \n",
       "std     7624.675152     22.935092     79.923261     3538.599684    174.346267   \n",
       "min        1.000000    -41.454500   -157.498300        0.000000      0.000000   \n",
       "25%     6596.250000     13.145425    -71.516375        0.000000      0.000000   \n",
       "50%    13191.500000     32.985550      9.775000        0.000000      0.000000   \n",
       "75%    19786.750000     42.501575     64.688975       10.000000      0.000000   \n",
       "max    26382.000000     71.706900    174.886000    69176.000000   6820.000000   \n",
       "\n",
       "       day_from_jan_first          temp           min           max  \\\n",
       "count         17892.00000  17892.000000  17755.000000  17876.000000   \n",
       "mean             53.00000     54.849313     45.630262     64.380191   \n",
       "std              18.18475     22.306125     22.900739     22.310919   \n",
       "min              22.00000    -27.200000    -45.400000    -23.800000   \n",
       "25%              37.00000     38.800000     30.200000     47.500000   \n",
       "50%              53.00000     53.900000     44.400000     64.800000   \n",
       "75%              69.00000     76.800000     67.500000     84.600000   \n",
       "max              84.00000     97.300000     88.200000    109.600000   \n",
       "\n",
       "                stp           slp          dewp            rh            ah  \\\n",
       "count  17892.000000  10945.000000  17274.000000  17274.000000  1.727400e+04   \n",
       "mean     702.306416   1016.581023     42.353630      0.665443           inf   \n",
       "std      428.769343      8.490953     22.399517      0.191092           NaN   \n",
       "min        0.000000    968.900000    -33.100000      0.053782 -2.374315e+01   \n",
       "25%       20.700000   1011.300000     27.000000      0.560904  1.161556e-01   \n",
       "50%      976.600000   1016.000000     40.800000      0.704800  1.932966e-01   \n",
       "75%      999.900000   1021.600000     63.500000      0.801220  2.329961e-01   \n",
       "max      999.900000   1051.700000     81.100000      1.000000           inf   \n",
       "\n",
       "               wdsp          prcp           fog  \n",
       "count  17892.000000  17892.000000  17892.000000  \n",
       "mean      25.521104      7.826334      0.336631  \n",
       "std      136.295573     26.740543      0.472571  \n",
       "min        0.000000      0.000000      0.000000  \n",
       "25%        3.500000      0.000000      0.000000  \n",
       "50%        5.600000      0.000000      0.000000  \n",
       "75%        8.700000      0.030000      1.000000  \n",
       "max      999.900000     99.990000      1.000000  "
      ]
     },
     "execution_count": 4,
     "metadata": {},
     "output_type": "execute_result"
    }
   ],
   "source": [
    "df.describe()"
   ]
  },
  {
   "cell_type": "code",
   "execution_count": 5,
   "metadata": {},
   "outputs": [
    {
     "data": {
      "text/plain": [
       "(17892, 20)"
      ]
     },
     "execution_count": 5,
     "metadata": {},
     "output_type": "execute_result"
    }
   ],
   "source": [
    "df.shape"
   ]
  },
  {
   "cell_type": "code",
   "execution_count": 6,
   "metadata": {},
   "outputs": [
    {
     "data": {
      "text/plain": [
       "Id                      int64\n",
       "Province/State         object\n",
       "Country/Region         object\n",
       "Lat                   float64\n",
       "Long                  float64\n",
       "Date                   object\n",
       "ConfirmedCases        float64\n",
       "Fatalities            float64\n",
       "day_from_jan_first      int64\n",
       "temp                  float64\n",
       "min                   float64\n",
       "max                   float64\n",
       "stp                   float64\n",
       "slp                   float64\n",
       "dewp                  float64\n",
       "rh                    float64\n",
       "ah                    float64\n",
       "wdsp                  float64\n",
       "prcp                  float64\n",
       "fog                     int64\n",
       "dtype: object"
      ]
     },
     "execution_count": 6,
     "metadata": {},
     "output_type": "execute_result"
    }
   ],
   "source": [
    "df.dtypes"
   ]
  },
  {
   "cell_type": "code",
   "execution_count": 8,
   "metadata": {},
   "outputs": [
    {
     "data": {
      "text/plain": [
       "Id                       0\n",
       "Province/State        9702\n",
       "Country/Region           0\n",
       "Lat                      0\n",
       "Long                     0\n",
       "Date                     0\n",
       "ConfirmedCases           0\n",
       "Fatalities               0\n",
       "day_from_jan_first       0\n",
       "temp                     0\n",
       "min                    137\n",
       "max                     16\n",
       "stp                      0\n",
       "slp                   6947\n",
       "dewp                   618\n",
       "rh                     618\n",
       "ah                     618\n",
       "wdsp                     0\n",
       "prcp                     0\n",
       "fog                      0\n",
       "dtype: int64"
      ]
     },
     "execution_count": 8,
     "metadata": {},
     "output_type": "execute_result"
    }
   ],
   "source": [
    "df.isnull().values.any()\n",
    "df.isnull().sum()"
   ]
  },
  {
   "cell_type": "code",
   "execution_count": 20,
   "metadata": {},
   "outputs": [],
   "source": [
    "covid_cases=df[df['Country/Region']=='Italy']"
   ]
  },
  {
   "cell_type": "code",
   "execution_count": 21,
   "metadata": {},
   "outputs": [
    {
     "data": {
      "text/html": [
       "<div>\n",
       "<style scoped>\n",
       "    .dataframe tbody tr th:only-of-type {\n",
       "        vertical-align: middle;\n",
       "    }\n",
       "\n",
       "    .dataframe tbody tr th {\n",
       "        vertical-align: top;\n",
       "    }\n",
       "\n",
       "    .dataframe thead th {\n",
       "        text-align: right;\n",
       "    }\n",
       "</style>\n",
       "<table border=\"1\" class=\"dataframe\">\n",
       "  <thead>\n",
       "    <tr style=\"text-align: right;\">\n",
       "      <th></th>\n",
       "      <th>Id</th>\n",
       "      <th>Province/State</th>\n",
       "      <th>Country/Region</th>\n",
       "      <th>Lat</th>\n",
       "      <th>Long</th>\n",
       "      <th>Date</th>\n",
       "      <th>ConfirmedCases</th>\n",
       "      <th>Fatalities</th>\n",
       "      <th>day_from_jan_first</th>\n",
       "      <th>temp</th>\n",
       "      <th>min</th>\n",
       "      <th>max</th>\n",
       "      <th>stp</th>\n",
       "      <th>slp</th>\n",
       "      <th>dewp</th>\n",
       "      <th>rh</th>\n",
       "      <th>ah</th>\n",
       "      <th>wdsp</th>\n",
       "      <th>prcp</th>\n",
       "      <th>fog</th>\n",
       "    </tr>\n",
       "  </thead>\n",
       "  <tbody>\n",
       "    <tr>\n",
       "      <th>8379</th>\n",
       "      <td>12370</td>\n",
       "      <td>NaN</td>\n",
       "      <td>Italy</td>\n",
       "      <td>43.0</td>\n",
       "      <td>12.0</td>\n",
       "      <td>2020-01-22</td>\n",
       "      <td>0.0</td>\n",
       "      <td>0.0</td>\n",
       "      <td>22</td>\n",
       "      <td>42.4</td>\n",
       "      <td>28.4</td>\n",
       "      <td>52.9</td>\n",
       "      <td>999.9</td>\n",
       "      <td>NaN</td>\n",
       "      <td>34.7</td>\n",
       "      <td>0.739237</td>\n",
       "      <td>0.255448</td>\n",
       "      <td>1.0</td>\n",
       "      <td>0.00</td>\n",
       "      <td>0</td>\n",
       "    </tr>\n",
       "    <tr>\n",
       "      <th>8380</th>\n",
       "      <td>12371</td>\n",
       "      <td>NaN</td>\n",
       "      <td>Italy</td>\n",
       "      <td>43.0</td>\n",
       "      <td>12.0</td>\n",
       "      <td>2020-01-23</td>\n",
       "      <td>0.0</td>\n",
       "      <td>0.0</td>\n",
       "      <td>23</td>\n",
       "      <td>49.0</td>\n",
       "      <td>44.2</td>\n",
       "      <td>53.6</td>\n",
       "      <td>999.9</td>\n",
       "      <td>NaN</td>\n",
       "      <td>35.6</td>\n",
       "      <td>0.595971</td>\n",
       "      <td>0.161975</td>\n",
       "      <td>0.3</td>\n",
       "      <td>0.00</td>\n",
       "      <td>0</td>\n",
       "    </tr>\n",
       "    <tr>\n",
       "      <th>8381</th>\n",
       "      <td>12372</td>\n",
       "      <td>NaN</td>\n",
       "      <td>Italy</td>\n",
       "      <td>43.0</td>\n",
       "      <td>12.0</td>\n",
       "      <td>2020-01-24</td>\n",
       "      <td>0.0</td>\n",
       "      <td>0.0</td>\n",
       "      <td>24</td>\n",
       "      <td>41.7</td>\n",
       "      <td>41.0</td>\n",
       "      <td>42.8</td>\n",
       "      <td>999.9</td>\n",
       "      <td>NaN</td>\n",
       "      <td>36.7</td>\n",
       "      <td>0.822306</td>\n",
       "      <td>0.296525</td>\n",
       "      <td>1.4</td>\n",
       "      <td>0.00</td>\n",
       "      <td>0</td>\n",
       "    </tr>\n",
       "    <tr>\n",
       "      <th>8382</th>\n",
       "      <td>12373</td>\n",
       "      <td>NaN</td>\n",
       "      <td>Italy</td>\n",
       "      <td>43.0</td>\n",
       "      <td>12.0</td>\n",
       "      <td>2020-01-25</td>\n",
       "      <td>0.0</td>\n",
       "      <td>0.0</td>\n",
       "      <td>25</td>\n",
       "      <td>49.0</td>\n",
       "      <td>42.1</td>\n",
       "      <td>54.0</td>\n",
       "      <td>999.9</td>\n",
       "      <td>NaN</td>\n",
       "      <td>46.8</td>\n",
       "      <td>0.920369</td>\n",
       "      <td>0.250141</td>\n",
       "      <td>2.1</td>\n",
       "      <td>0.51</td>\n",
       "      <td>1</td>\n",
       "    </tr>\n",
       "    <tr>\n",
       "      <th>8383</th>\n",
       "      <td>12374</td>\n",
       "      <td>NaN</td>\n",
       "      <td>Italy</td>\n",
       "      <td>43.0</td>\n",
       "      <td>12.0</td>\n",
       "      <td>2020-01-26</td>\n",
       "      <td>0.0</td>\n",
       "      <td>0.0</td>\n",
       "      <td>26</td>\n",
       "      <td>48.3</td>\n",
       "      <td>44.6</td>\n",
       "      <td>52.5</td>\n",
       "      <td>999.9</td>\n",
       "      <td>NaN</td>\n",
       "      <td>44.7</td>\n",
       "      <td>0.872332</td>\n",
       "      <td>0.240843</td>\n",
       "      <td>0.9</td>\n",
       "      <td>0.20</td>\n",
       "      <td>1</td>\n",
       "    </tr>\n",
       "  </tbody>\n",
       "</table>\n",
       "</div>"
      ],
      "text/plain": [
       "         Id Province/State Country/Region   Lat  Long        Date  \\\n",
       "8379  12370            NaN          Italy  43.0  12.0  2020-01-22   \n",
       "8380  12371            NaN          Italy  43.0  12.0  2020-01-23   \n",
       "8381  12372            NaN          Italy  43.0  12.0  2020-01-24   \n",
       "8382  12373            NaN          Italy  43.0  12.0  2020-01-25   \n",
       "8383  12374            NaN          Italy  43.0  12.0  2020-01-26   \n",
       "\n",
       "      ConfirmedCases  Fatalities  day_from_jan_first  temp   min   max    stp  \\\n",
       "8379             0.0         0.0                  22  42.4  28.4  52.9  999.9   \n",
       "8380             0.0         0.0                  23  49.0  44.2  53.6  999.9   \n",
       "8381             0.0         0.0                  24  41.7  41.0  42.8  999.9   \n",
       "8382             0.0         0.0                  25  49.0  42.1  54.0  999.9   \n",
       "8383             0.0         0.0                  26  48.3  44.6  52.5  999.9   \n",
       "\n",
       "      slp  dewp        rh        ah  wdsp  prcp  fog  \n",
       "8379  NaN  34.7  0.739237  0.255448   1.0  0.00    0  \n",
       "8380  NaN  35.6  0.595971  0.161975   0.3  0.00    0  \n",
       "8381  NaN  36.7  0.822306  0.296525   1.4  0.00    0  \n",
       "8382  NaN  46.8  0.920369  0.250141   2.1  0.51    1  \n",
       "8383  NaN  44.7  0.872332  0.240843   0.9  0.20    1  "
      ]
     },
     "execution_count": 21,
     "metadata": {},
     "output_type": "execute_result"
    }
   ],
   "source": [
    "covid_cases.head()"
   ]
  },
  {
   "cell_type": "code",
   "execution_count": 22,
   "metadata": {},
   "outputs": [
    {
     "data": {
      "text/plain": [
       "Id                     0\n",
       "Province/State        63\n",
       "Country/Region         0\n",
       "Lat                    0\n",
       "Long                   0\n",
       "Date                   0\n",
       "ConfirmedCases         0\n",
       "Fatalities             0\n",
       "day_from_jan_first     0\n",
       "temp                   0\n",
       "min                    0\n",
       "max                    0\n",
       "stp                    0\n",
       "slp                   63\n",
       "dewp                   0\n",
       "rh                     0\n",
       "ah                     0\n",
       "wdsp                   0\n",
       "prcp                   0\n",
       "fog                    0\n",
       "dtype: int64"
      ]
     },
     "execution_count": 22,
     "metadata": {},
     "output_type": "execute_result"
    }
   ],
   "source": [
    "covid_cases.isnull().sum()"
   ]
  },
  {
   "cell_type": "code",
   "execution_count": 23,
   "metadata": {},
   "outputs": [
    {
     "data": {
      "text/plain": [
       "Id                    0.725460\n",
       "Lat                        NaN\n",
       "Long                       NaN\n",
       "ConfirmedCases        1.000000\n",
       "Fatalities            0.994358\n",
       "day_from_jan_first    0.725460\n",
       "temp                  0.313447\n",
       "min                  -0.144603\n",
       "max                   0.361281\n",
       "stp                        NaN\n",
       "slp                        NaN\n",
       "dewp                 -0.046464\n",
       "rh                   -0.276364\n",
       "ah                   -0.251587\n",
       "wdsp                  0.194849\n",
       "prcp                 -0.119295\n",
       "fog                  -0.263264\n",
       "Name: ConfirmedCases, dtype: float64"
      ]
     },
     "execution_count": 23,
     "metadata": {},
     "output_type": "execute_result"
    }
   ],
   "source": [
    "covid_cases.corr()['ConfirmedCases']"
   ]
  },
  {
   "cell_type": "code",
   "execution_count": 24,
   "metadata": {},
   "outputs": [],
   "source": [
    "c_mat_weat = covid_cases[['ConfirmedCases', 'Fatalities', 'temp','max','prcp','fog', 'prcp','wdsp','dewp','rh','ah']].corr()"
   ]
  },
  {
   "cell_type": "code",
   "execution_count": 25,
   "metadata": {},
   "outputs": [
    {
     "data": {
      "text/plain": [
       "<AxesSubplot:>"
      ]
     },
     "execution_count": 25,
     "metadata": {},
     "output_type": "execute_result"
    },
    {
     "data": {
      "image/png": "[encoded data removed]",
      "text/plain": [
       "<Figure size 864x864 with 2 Axes>"
      ]
     },
     "metadata": {
      "needs_background": "light"
     },
     "output_type": "display_data"
    }
   ],
   "source": [
    "plt.subplots(figsize=(12,12))\n",
    "sns.heatmap(c_mat_weat,vmin=-0.18,annot=True, vmax=1, center= 0.5,linewidths=3, linecolor='black')"
   ]
  },
  {
   "cell_type": "code",
   "execution_count": null,
   "metadata": {},
   "outputs": [],
   "source": [
    "## Inferences from correlation analysis:\n",
    "# The Correlation for Temp,max and wdsp with confirmed cases and fatalities are promising\n",
    "# There might be chances that these factors of wheather affect the Covid spread"
   ]
  },
  {
   "cell_type": "code",
   "execution_count": 26,
   "metadata": {},
   "outputs": [],
   "source": [
    "## LEARNING\n",
    "from sklearn.linear_model import LinearRegression\n",
    "from sklearn.model_selection import train_test_split"
   ]
  },
  {
   "cell_type": "code",
   "execution_count": 28,
   "metadata": {},
   "outputs": [],
   "source": [
    "Y=covid_cases[['ConfirmedCases']]\n",
    "X=covid_cases[[ 'Fatalities','temp','max','wdsp']]"
   ]
  },
  {
   "cell_type": "code",
   "execution_count": 29,
   "metadata": {},
   "outputs": [],
   "source": [
    "X_train, X_test, Y_train, Y_test = train_test_split(X, Y, test_size = 0.2,random_state=400)\n",
    "model = LinearRegression()"
   ]
  },
  {
   "cell_type": "code",
   "execution_count": 30,
   "metadata": {},
   "outputs": [
    {
     "name": "stdout",
     "output_type": "stream",
     "text": [
      "0.988328137406593\n"
     ]
    }
   ],
   "source": [
    "model.fit(X_train, Y_train)\n",
    "print(model.score(X_test, Y_test))"
   ]
  },
  {
   "cell_type": "code",
   "execution_count": 33,
   "metadata": {},
   "outputs": [
    {
     "name": "stdout",
     "output_type": "stream",
     "text": [
      "0.6729897429466682\n"
     ]
    }
   ],
   "source": [
    "test_country=df[df['Country/Region']=='China']\n",
    "Y1=test_country[['ConfirmedCases']]\n",
    "X1=test_country[['Fatalities','temp','max','wdsp']]\n",
    "print(model.score(X1, Y1))"
   ]
  },
  {
   "cell_type": "code",
   "execution_count": 41,
   "metadata": {},
   "outputs": [
    {
     "name": "stdout",
     "output_type": "stream",
     "text": [
      "-12.755339510518407\n"
     ]
    }
   ],
   "source": [
    "test_country2=df[df['Country/Region']=='United Kingdom']\n",
    "Y2=test_country2[['ConfirmedCases']]\n",
    "X2=test_country2[['Fatalities','temp','max','wdsp']]\n",
    "print(model.score(X2, Y2))"
   ]
  },
  {
   "cell_type": "code",
   "execution_count": 42,
   "metadata": {},
   "outputs": [
    {
     "name": "stdout",
     "output_type": "stream",
     "text": [
      "-1933.9859550798503\n"
     ]
    }
   ],
   "source": [
    "test_country3=df[df['Country/Region']=='India']\n",
    "Y3=test_country3[['ConfirmedCases']]\n",
    "X3=test_country3[['Fatalities','temp','max','wdsp']]\n",
    "print(model.score(X3, Y3))"
   ]
  },
  {
   "cell_type": "code",
   "execution_count": 44,
   "metadata": {},
   "outputs": [],
   "source": [
    "covid_cases_India=df[df['Country/Region']=='India']"
   ]
  },
  {
   "cell_type": "code",
   "execution_count": 45,
   "metadata": {},
   "outputs": [
    {
     "data": {
      "text/plain": [
       "Id                    0.657165\n",
       "Lat                        NaN\n",
       "Long                       NaN\n",
       "ConfirmedCases        1.000000\n",
       "Fatalities            0.984525\n",
       "day_from_jan_first    0.657165\n",
       "temp                  0.593758\n",
       "min                   0.517935\n",
       "max                   0.612289\n",
       "stp                        NaN\n",
       "slp                  -0.472539\n",
       "dewp                  0.376181\n",
       "rh                   -0.075012\n",
       "ah                    0.156789\n",
       "wdsp                 -0.170365\n",
       "prcp                  0.065303\n",
       "fog                  -0.056769\n",
       "Name: ConfirmedCases, dtype: float64"
      ]
     },
     "execution_count": 45,
     "metadata": {},
     "output_type": "execute_result"
    }
   ],
   "source": [
    "covid_cases_India.corr()['ConfirmedCases']"
   ]
  },
  {
   "cell_type": "code",
   "execution_count": 46,
   "metadata": {},
   "outputs": [
    {
     "data": {
      "text/plain": [
       "<AxesSubplot:>"
      ]
     },
     "execution_count": 46,
     "metadata": {},
     "output_type": "execute_result"
    },
    {
     "data": {
      "image/png": "[encoded data removed]",
      "text/plain": [
       "<Figure size 864x864 with 2 Axes>"
      ]
     },
     "metadata": {
      "needs_background": "light"
     },
     "output_type": "display_data"
    }
   ],
   "source": [
    "c_mat_weat_India = covid_cases_India[['ConfirmedCases', 'Fatalities', 'temp','max','prcp','fog', 'prcp','wdsp','dewp','rh','ah']].corr()\n",
    "plt.subplots(figsize=(12,12))\n",
    "sns.heatmap(c_mat_weat_India,vmin=-0.18,annot=True, vmax=1, center= 0.5,linewidths=3, linecolor='black')"
   ]
  },
  {
   "cell_type": "code",
   "execution_count": 47,
   "metadata": {},
   "outputs": [],
   "source": [
    "Y=covid_cases_India[['ConfirmedCases']]\n",
    "X=covid_cases_India[['Fatalities','temp','max','dewp']]"
   ]
  },
  {
   "cell_type": "code",
   "execution_count": 48,
   "metadata": {},
   "outputs": [],
   "source": [
    "X_train, X_test, Y_train, Y_test = train_test_split(X, Y, test_size = 0.2,random_state=400)\n",
    "model2 = LinearRegression()"
   ]
  },
  {
   "cell_type": "code",
   "execution_count": 51,
   "metadata": {},
   "outputs": [
    {
     "name": "stdout",
     "output_type": "stream",
     "text": [
      "0.987208939069367\n"
     ]
    }
   ],
   "source": [
    "model2.fit(X_train, Y_train)\n",
    "print(model2.score(X_test, Y_test))"
   ]
  },
  {
   "cell_type": "code",
   "execution_count": 54,
   "metadata": {},
   "outputs": [
    {
     "name": "stdout",
     "output_type": "stream",
     "text": [
      "-17.4009387425236\n"
     ]
    }
   ],
   "source": [
    "test_country=df[df['Country/Region']=='Italy']\n",
    "Y1=test_country[['ConfirmedCases']]\n",
    "X1=test_country[['Fatalities','temp','max','dewp']]\n",
    "print(model2.score(X1, Y1))"
   ]
  },
  {
   "cell_type": "code",
   "execution_count": null,
   "metadata": {},
   "outputs": [],
   "source": [
    "##Conclusion:\n",
    "# While temperature does seem to have effect on the spread of covid, It cannot be generalised globally\n",
    "# It depends upon the region and the Natural climatic conditions of the region\n",
    "# This can be observed when the model seemed to predict with high accuracy when it is tested with same\n",
    "# region data as in training, but when the test is run some other country data the prediction is not accurate\n",
    "# This is mainly due to varying climatic factors in different region, even if the model is trained on a generalised \n",
    "# basis for all regions, the correlation of features seem very low for training."
   ]
  }
 ],
 "metadata": {
  "kernelspec": {
   "display_name": "Python 3",
   "language": "python",
   "name": "python3"
  },
  "language_info": {
   "codemirror_mode": {
    "name": "ipython",
    "version": 3
   },
   "file_extension": ".py",
   "mimetype": "text/x-python",
   "name": "python",
   "nbconvert_exporter": "python",
   "pygments_lexer": "ipython3",
   "version": "3.8.5"
  }
 },
 "nbformat": 4,
 "nbformat_minor": 4
}
